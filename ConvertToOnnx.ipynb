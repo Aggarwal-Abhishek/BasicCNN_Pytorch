{
 "cells": [
  {
   "cell_type": "markdown",
   "metadata": {
    "id": "KAOH_u1Hk4ZU"
   },
   "source": [
    "\n",
    "### Importing Libraries"
   ]
  },
  {
   "cell_type": "code",
   "execution_count": 7,
   "metadata": {
    "ExecuteTime": {
     "end_time": "2020-11-23T19:18:47.491760Z",
     "start_time": "2020-11-23T19:18:47.483621Z"
    },
    "colab": {
     "base_uri": "https://localhost:8080/"
    },
    "id": "xfZqpCPoCzPw",
    "outputId": "84a62842-4b8e-4bf4-af8e-6d6c3dba4ac1"
   },
   "outputs": [
    {
     "name": "stdout",
     "output_type": "stream",
     "text": [
      "Using: cpu\n"
     ]
    }
   ],
   "source": [
    "import os\n",
    "import torch\n",
    "import torch.nn as nn\n",
    "device = torch.device('cuda' if torch.cuda.is_available() else 'cpu')\n",
    "print('Using:', device)"
   ]
  },
  {
   "cell_type": "markdown",
   "metadata": {
    "id": "2b8Zwekjk4ZX"
   },
   "source": [
    "### Defile Model Architecture"
   ]
  },
  {
   "cell_type": "code",
   "execution_count": 3,
   "metadata": {
    "ExecuteTime": {
     "end_time": "2020-11-23T19:18:16.438227Z",
     "start_time": "2020-11-23T19:18:16.381927Z"
    },
    "colab": {
     "base_uri": "https://localhost:8080/"
    },
    "id": "uTEDoItYi3MW",
    "outputId": "03f989b3-a9e1-4738-aab3-bd883d0a757a"
   },
   "outputs": [],
   "source": [
    "class MyModel(nn.Module):\n",
    "    def __init__(self):\n",
    "        super(MyModel, self).__init__()\n",
    "        \n",
    "        self.model = nn.Sequential(\n",
    "            nn.Conv2d(3, 16, kernel_size=3), nn.ReLU(),\n",
    "            nn.Conv2d(16, 16, kernel_size=3), nn.ReLU(),\n",
    "            nn.MaxPool2d(2,2),\n",
    "\n",
    "            nn.Conv2d(16, 32, kernel_size=3), nn.ReLU(),\n",
    "            nn.Conv2d(32, 32, kernel_size=3), nn.ReLU(),\n",
    "            nn.MaxPool2d(2,2),\n",
    "\n",
    "            nn.Conv2d(32, 64, kernel_size=3), nn.ReLU(),\n",
    "            nn.Conv2d(64, 64, kernel_size=3), nn.ReLU(),\n",
    "            nn.MaxPool2d(2,2),\n",
    "\n",
    "            nn.Conv2d(64, 128, kernel_size=3), nn.ReLU(),\n",
    "            nn.Conv2d(128, 128, kernel_size=3), nn.ReLU(),\n",
    "            nn.MaxPool2d(2,2),\n",
    "\n",
    "            nn.Conv2d(128, 256, kernel_size=3), nn.ReLU(),\n",
    "            nn.Conv2d(256, 256, kernel_size=3), nn.ReLU(),\n",
    "            nn.MaxPool2d(2,2),\n",
    "\n",
    "        ).to(device)\n",
    "        \n",
    "        self.classifier = nn.Sequential(\n",
    "            nn.Flatten(),\n",
    "            nn.Dropout(0.25),\n",
    "            nn.Linear(4096, 256),\n",
    "            nn.ReLU(),\n",
    "\n",
    "            nn.Dropout(0.5),\n",
    "            nn.Linear(256, 10)\n",
    "        ).to(device)\n",
    "        \n",
    "    def forward(self, x):\n",
    "        x = self.model(x)\n",
    "        x = self.classifier(x)\n",
    "        return x\n",
    "\n",
    "\n",
    "model = MyModel().to(device)"
   ]
  },
  {
   "cell_type": "code",
   "execution_count": null,
   "metadata": {},
   "outputs": [],
   "source": []
  },
  {
   "cell_type": "code",
   "execution_count": 17,
   "metadata": {
    "ExecuteTime": {
     "end_time": "2020-11-23T19:25:39.421580Z",
     "start_time": "2020-11-23T19:25:38.899055Z"
    }
   },
   "outputs": [],
   "source": [
    "model_files = [x for x in os.listdir() if x.endswith('.pth')]\n",
    "\n",
    "for model_file in model_files:\n",
    "    model = torch.load(model_file, map_location=device)\n",
    "    model.eval()\n",
    "    \n",
    "    torch.onnx.export(\n",
    "        model, \n",
    "        torch.zeros(1,3,256,256, device=device),\n",
    "        model_file.replace('.pth', '.onnx'),\n",
    "    )"
   ]
  },
  {
   "cell_type": "code",
   "execution_count": null,
   "metadata": {
    "ExecuteTime": {
     "end_time": "2020-11-23T19:22:02.548982Z",
     "start_time": "2020-11-23T19:22:02.543064Z"
    },
    "id": "nrFfzL4sk4Zb"
   },
   "outputs": [],
   "source": []
  },
  {
   "cell_type": "code",
   "execution_count": null,
   "metadata": {
    "id": "GxGDgV9tk4Zb"
   },
   "outputs": [],
   "source": []
  },
  {
   "cell_type": "code",
   "execution_count": null,
   "metadata": {
    "id": "mjK4UML0k4Zb"
   },
   "outputs": [],
   "source": []
  },
  {
   "cell_type": "code",
   "execution_count": null,
   "metadata": {
    "id": "En7p2auNk4Zb"
   },
   "outputs": [],
   "source": []
  },
  {
   "cell_type": "code",
   "execution_count": null,
   "metadata": {
    "id": "PJw_SD4Vk4Zb"
   },
   "outputs": [],
   "source": []
  }
 ],
 "metadata": {
  "accelerator": "GPU",
  "colab": {
   "collapsed_sections": [
    "KAOH_u1Hk4ZU",
    "Vmc0T1R9CzP9",
    "w3XS-hv6CzQK",
    "2b8Zwekjk4ZX",
    "TmvqvzHOCzQc",
    "vS_ugytRk4ZY",
    "4m7iBvxFCzQs",
    "EJfwPsHBk4ZY",
    "QaGM1Obj9YcC",
    "DUTUbGbUk4ZZ",
    "1hRMGJ4Gk4Za",
    "9ERcIA34Pc4A"
   ],
   "name": " BasicCNN_Pytorch.ipynb",
   "provenance": []
  },
  "kernelspec": {
   "display_name": "Python 3",
   "language": "python",
   "name": "python3"
  },
  "language_info": {
   "codemirror_mode": {
    "name": "ipython",
    "version": 3
   },
   "file_extension": ".py",
   "mimetype": "text/x-python",
   "name": "python",
   "nbconvert_exporter": "python",
   "pygments_lexer": "ipython3",
   "version": "3.7.4"
  }
 },
 "nbformat": 4,
 "nbformat_minor": 1
}
